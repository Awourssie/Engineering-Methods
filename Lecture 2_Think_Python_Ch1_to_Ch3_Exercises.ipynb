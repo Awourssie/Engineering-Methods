{
 "cells": [
  {
   "cell_type": "markdown",
   "id": "2fa8b039",
   "metadata": {},
   "source": [
    "## Arithmetic Operators"
   ]
  },
  {
   "cell_type": "code",
   "execution_count": 131,
   "id": "be267969",
   "metadata": {},
   "outputs": [
    {
     "name": "stdout",
     "output_type": "stream",
     "text": [
      "Addition: 13\n",
      "Subtraction:\n",
      "Multiplication:\n",
      "Division:\n",
      "Floor Division:\n",
      "Modulus:\n",
      "Exponentiation:\n"
     ]
    }
   ],
   "source": [
    "# Arithmetic Operators\n",
    "# Python supports basic arithmetic operations:\n",
    "# Addition (+), Subtraction (-), Multiplication (*), Division (/), Modulus (%), Exponentiation (**)\n",
    "\n",
    "a = 10\n",
    "b = 3\n",
    "\n",
    "print(\"Addition:\", a + b)\n",
    "print(\"Subtraction:\", ) # Your code from here and on \n",
    "print(\"Multiplication:\", )\n",
    "print(\"Division:\", )\n",
    "print(\"Floor Division:\", )\n",
    "print(\"Modulus:\", )\n",
    "print(\"Exponentiation:\", )\n"
   ]
  },
  {
   "cell_type": "markdown",
   "id": "b1f46671",
   "metadata": {},
   "source": [
    "## Expressions"
   ]
  },
  {
   "cell_type": "code",
   "execution_count": 132,
   "id": "ebdd5307",
   "metadata": {},
   "outputs": [
    {
     "name": "stdout",
     "output_type": "stream",
     "text": [
      "Expression result: a = 25  b = 13\n"
     ]
    }
   ],
   "source": [
    "# Expressions\n",
    "# An expression is a combination of values, variables, and operators that Python can evaluate.\n",
    "\n",
    "x = 5\n",
    "y = 2\n",
    "a = x * (y + 3) # Your code to change a and b to different expressions\n",
    "b = x * y + 3\n",
    "\n",
    "print(\"Expression result: a =\", a, \" b =\", b)"
   ]
  },
  {
   "cell_type": "markdown",
   "id": "da622ebd",
   "metadata": {},
   "source": [
    "## Arithmetic Functions"
   ]
  },
  {
   "cell_type": "code",
   "execution_count": 133,
   "id": "8f87d071",
   "metadata": {},
   "outputs": [
    {
     "name": "stdout",
     "output_type": "stream",
     "text": [
      "Absolute value: 7.89627\n",
      "Rounded value: -7.896\n"
     ]
    }
   ],
   "source": [
    "# Arithmetic Functions\n",
    "# Python provides built-in functions like round() and abs()\n",
    "\n",
    "value = -7.89627\n",
    "\n",
    "print(\"Absolute value:\", abs(value))\n",
    "print(\"Rounded value:\", round(value, 3))\n",
    "\n",
    "# Your code here"
   ]
  },
  {
   "cell_type": "markdown",
   "id": "ee503e8f",
   "metadata": {},
   "source": [
    "## Strings"
   ]
  },
  {
   "cell_type": "code",
   "execution_count": 134,
   "id": "bdcb4d75",
   "metadata": {},
   "outputs": [
    {
     "name": "stdout",
     "output_type": "stream",
     "text": [
      "Hello, World!\n",
      "Hello, World!\n",
      "Length of string 1: 13\n",
      "Uppercase: HELLO, WORLD!\n"
     ]
    }
   ],
   "source": [
    "# Strings\n",
    "# Strings are sequences of characters enclosed in quotes.\n",
    "\n",
    "greeting1 = \"Hello, World!\"\n",
    "greeting2 = 'Hello' + ', ' + \"World!\"\n",
    "print(greeting1)\n",
    "print(greeting2)\n",
    "print(\"Length of string 1:\", len(greeting1))\n",
    "print(\"Uppercase:\", greeting2.upper())\n",
    "\n",
    "# Your code here\n"
   ]
  },
  {
   "cell_type": "markdown",
   "id": "aec13de8",
   "metadata": {},
   "source": [
    "## Values and Variables"
   ]
  },
  {
   "cell_type": "code",
   "execution_count": 135,
   "id": "74303a9a",
   "metadata": {},
   "outputs": [
    {
     "name": "stdout",
     "output_type": "stream",
     "text": [
      "Type of num: <class 'int'>\n",
      "Type of text: <class 'str'>\n",
      "Convert string to int: 123\n",
      "Convert string to float: 123.456\n",
      "Convert float to int: 123\n"
     ]
    }
   ],
   "source": [
    "# Values and Variables\n",
    "# Variables store values. Use type() to check the type of a value.\n",
    "\n",
    "num = 42\n",
    "text = \"Python\"\n",
    "int_num = int(\"123\")\n",
    "\n",
    "print(\"Type of num:\", type(num))\n",
    "print(\"Type of text:\", type(text))\n",
    "print(\"Convert string to int:\", int(\"123\"))\n",
    "print(\"Convert string to float:\", float(\"123.456\"))\n",
    "print(\"Convert float to int:\", int(123.456))\n",
    "\n",
    "# Your code here\n"
   ]
  },
  {
   "cell_type": "markdown",
   "id": "412914d1",
   "metadata": {},
   "source": [
    "## Variable Assignments and Statements"
   ]
  },
  {
   "cell_type": "code",
   "execution_count": 136,
   "id": "ebb5b28a",
   "metadata": {},
   "outputs": [
    {
     "name": "stdout",
     "output_type": "stream",
     "text": [
      "Value of y: 15\n"
     ]
    }
   ],
   "source": [
    "# Variable Assignments and Statements\n",
    "# Use = to assign values to variables.\n",
    "\n",
    "x = 10\n",
    "y = x + 5\n",
    "print(\"Value of y:\", y)\n"
   ]
  },
  {
   "cell_type": "markdown",
   "id": "3db46405",
   "metadata": {},
   "source": [
    "## Variable Naming Rules and Keywords"
   ]
  },
  {
   "cell_type": "code",
   "execution_count": 137,
   "id": "b07ff4b0",
   "metadata": {},
   "outputs": [
    {
     "name": "stdout",
     "output_type": "stream",
     "text": [
      "Python keywords: ['False', 'None', 'True', 'and', 'as', 'assert', 'async', 'await', 'break', 'class', 'continue', 'def', 'del', 'elif', 'else', 'except', 'finally', 'for', 'from', 'global', 'if', 'import', 'in', 'is', 'lambda', 'nonlocal', 'not', 'or', 'pass', 'raise', 'return', 'try', 'while', 'with', 'yield']\n"
     ]
    }
   ],
   "source": [
    "# Variable Naming Rules and Keywords\n",
    "# Variable names must start with a letter or underscore and cannot be Python keywords.\n",
    "\n",
    "# Valid variable names\n",
    "my_var = 1\n",
    "_var2 = 2\n",
    "\n",
    "# Invalid: 2var = 3 (starts with a number)\n",
    "# Invalid: if = 4 (if is a keyword)\n",
    "\n",
    "import keyword\n",
    "print(\"Python keywords:\", keyword.kwlist) # Print out a list of Python keywords\n",
    "\n"
   ]
  },
  {
   "cell_type": "markdown",
   "id": "04067491",
   "metadata": {},
   "source": [
    "## Math Module"
   ]
  },
  {
   "cell_type": "code",
   "execution_count": 138,
   "id": "db9aac63",
   "metadata": {},
   "outputs": [
    {
     "name": "stdout",
     "output_type": "stream",
     "text": [
      "Square root of 16: 4.0\n",
      "Value of pi: 3.141592653589793\n",
      "Cosine of 0: 1.0\n"
     ]
    }
   ],
   "source": [
    "# Math Module\n",
    "# Import the math module to access mathematical functions\n",
    "\n",
    "import math\n",
    "\n",
    "print(\"Square root of 16:\", math.sqrt(16))\n",
    "print(\"Value of pi:\", math.pi)\n",
    "print(\"Cosine of 0:\", math.cos(0))\n",
    "\n",
    "# Your code here to use math functions. Do what you like!\n"
   ]
  },
  {
   "cell_type": "markdown",
   "id": "4a980680",
   "metadata": {},
   "source": [
    "## TypeErrors"
   ]
  },
  {
   "cell_type": "code",
   "execution_count": 139,
   "id": "951b1c0b",
   "metadata": {},
   "outputs": [
    {
     "name": "stdout",
     "output_type": "stream",
     "text": [
      "TypeError: can only concatenate str (not \"int\") to str\n"
     ]
    }
   ],
   "source": [
    "# TypeErrors\n",
    "# TypeErrors occur when operations are applied to incompatible types\n",
    "\n",
    "# Example:\n",
    "try:\n",
    "    result = \"hello\" + 5\n",
    "except TypeError as e:\n",
    "    print(\"TypeError:\", e)\n",
    "\n",
    "# Fix the error\n"
   ]
  },
  {
   "cell_type": "markdown",
   "id": "b4b3f96c",
   "metadata": {},
   "source": [
    "## Comments"
   ]
  },
  {
   "cell_type": "code",
   "execution_count": 140,
   "id": "74931309",
   "metadata": {},
   "outputs": [
    {
     "name": "stdout",
     "output_type": "stream",
     "text": [
      "5\n"
     ]
    }
   ],
   "source": [
    "# Comments\n",
    "# Use comments to explain code. Comments start with #\n",
    "\n",
    "# This is a comment\n",
    "x = 5  # Assign 5 to x\n",
    "print(x) # Add a comment here\n"
   ]
  },
  {
   "cell_type": "markdown",
   "id": "c33bce8d",
   "metadata": {},
   "source": [
    "# Exercises\n",
    "# Try these:\n",
    "# 1. Create a variable and assign it a string.\n",
    "# 2. Use math.sqrt() to find the square root of a number.\n",
    "# 3. Write a comment explaining what your code does.\n"
   ]
  },
  {
   "cell_type": "code",
   "execution_count": 141,
   "id": "5ab5b497",
   "metadata": {},
   "outputs": [],
   "source": [
    "variable = \"string\""
   ]
  },
  {
   "cell_type": "code",
   "execution_count": 142,
   "id": "41c09630",
   "metadata": {},
   "outputs": [
    {
     "data": {
      "text/plain": [
       "7.0"
      ]
     },
     "execution_count": 142,
     "metadata": {},
     "output_type": "execute_result"
    }
   ],
   "source": [
    "import math\n",
    "math.sqrt(49)"
   ]
  },
  {
   "cell_type": "code",
   "execution_count": 143,
   "id": "c8e2ed98",
   "metadata": {},
   "outputs": [],
   "source": [
    "#The code above calls the math module and then I call sqrt function to take the sqrt of 49"
   ]
  },
  {
   "cell_type": "markdown",
   "id": "9f686303",
   "metadata": {},
   "source": [
    "## Functions"
   ]
  },
  {
   "cell_type": "code",
   "execution_count": 144,
   "id": "1dc8ec37",
   "metadata": {},
   "outputs": [
    {
     "name": "stdout",
     "output_type": "stream",
     "text": [
      "Hello from a function!\n"
     ]
    }
   ],
   "source": [
    "# Functions\n",
    "# Functions are reusable blocks of code defined using def\n",
    "\n",
    "def greet():\n",
    "    print(\"Hello from a function!\")\n",
    "\n",
    "greet()\n",
    "\n",
    "# Your code here to define and call more functions"
   ]
  },
  {
   "cell_type": "markdown",
   "id": "cbf6f331",
   "metadata": {},
   "source": [
    "## Parameters and Arguments"
   ]
  },
  {
   "cell_type": "code",
   "execution_count": 145,
   "id": "75930ad5",
   "metadata": {},
   "outputs": [
    {
     "name": "stdout",
     "output_type": "stream",
     "text": [
      "Hello Alice\n"
     ]
    }
   ],
   "source": [
    "# Parameters and Arguments\n",
    "# Functions can accept parameters\n",
    "\n",
    "def greet(name):\n",
    "    print(\"Hello\", name)\n",
    "\n",
    "greet(\"Alice\")\n",
    "\n",
    "# Your code here to define and call functions with parameters\n"
   ]
  },
  {
   "cell_type": "markdown",
   "id": "e67d83bb",
   "metadata": {},
   "source": [
    "## Calling Functions and Local Variables"
   ]
  },
  {
   "cell_type": "code",
   "execution_count": 146,
   "id": "544b787d",
   "metadata": {},
   "outputs": [
    {
     "name": "stdout",
     "output_type": "stream",
     "text": [
      "Sum: 7\n"
     ]
    }
   ],
   "source": [
    "# Calling Functions and Local Variables\n",
    "# Variables inside functions are local to that function\n",
    "\n",
    "def add(a, b):\n",
    "    result = a + b\n",
    "    return result\n",
    "\n",
    "print(\"Sum:\", add(3, 4))\n",
    "\n",
    "#print(result)  # This will raise an error because result is local to add()\n",
    "\n",
    "# Your code here to define and call more functions with local variables"
   ]
  },
  {
   "cell_type": "markdown",
   "id": "69c11b94",
   "metadata": {},
   "source": [
    "## Loops"
   ]
  },
  {
   "cell_type": "code",
   "execution_count": 147,
   "id": "a62fffb4",
   "metadata": {},
   "outputs": [
    {
     "name": "stdout",
     "output_type": "stream",
     "text": [
      "Iteration 0\n",
      "Iteration 1\n",
      "Iteration 2\n",
      "Iteration 3\n",
      "Iteration 4\n"
     ]
    }
   ],
   "source": [
    "# Loops\n",
    "# Use for loops to repeat actions\n",
    "\n",
    "for i in range(5):\n",
    "    print(\"Iteration\", i)\n",
    "\n",
    "# Your code here to define and use more loops\n"
   ]
  },
  {
   "cell_type": "markdown",
   "id": "ff0a87ad",
   "metadata": {},
   "source": [
    "\n",
    "# Loop Through a List\n",
    "Loop through a list of forces and calculate stress using σ = F / A. Flag any stress that exceeds the yield limit."
   ]
  },
  {
   "cell_type": "code",
   "execution_count": 148,
   "id": "afada623",
   "metadata": {},
   "outputs": [
    {
     "name": "stdout",
     "output_type": "stream",
     "text": [
      "Force: 500 N → Stress: 100000.00 Pa → OK\n",
      "Force: 1000 N → Stress: 200000.00 Pa → OK\n",
      "Force: 1500 N → Stress: 300000.00 Pa → OK\n",
      "Force: 2000 N → Stress: 400000.00 Pa → Exceeds yield limit!\n"
     ]
    }
   ],
   "source": [
    "forces = [500, 1000, 1500, 2000]  # in Newtons\n",
    "area = 0.005  # cross-sectional area in m²\n",
    "yield_limit = 300000  # in Pascals\n",
    "\n",
    "for F in forces:\n",
    "    stress = F / area\n",
    "    status = \"OK\"\n",
    "    if stress > yield_limit:\n",
    "        status = \"Exceeds yield limit!\"\n",
    "    print(f\"Force: {F} N → Stress: {stress:.2f} Pa → {status}\")\n",
    "\n",
    "# Modify the code above to add more forces and change area and yield_limit"
   ]
  },
  {
   "cell_type": "markdown",
   "id": "91804e1e",
   "metadata": {},
   "source": [
    "# Print Text"
   ]
  },
  {
   "cell_type": "code",
   "execution_count": 149,
   "id": "35dd4dc9",
   "metadata": {},
   "outputs": [
    {
     "name": "stdout",
     "output_type": "stream",
     "text": [
      "Pytho\n"
     ]
    }
   ],
   "source": [
    "print(text[:5]) # NameError: name 'text' is not defined. Need to define 'text' first.\n",
    "\n",
    "# Fix the error"
   ]
  },
  {
   "cell_type": "markdown",
   "id": "be099eeb",
   "metadata": {},
   "source": [
    "# Final Exercises\n",
    "# 1. Write a function that returns the square of a number.\n",
    "# 2. Use a loop to print numbers from 1 to 10.\n",
    "# 3. Use round() and abs() in a function.\n"
   ]
  },
  {
   "cell_type": "code",
   "execution_count": 150,
   "id": "43c4cd1b",
   "metadata": {},
   "outputs": [
    {
     "name": "stdout",
     "output_type": "stream",
     "text": [
      "5.0\n"
     ]
    }
   ],
   "source": [
    "import math\n",
    "\n",
    "def square(x):\n",
    "    result = math.sqrt(x)\n",
    "    return result\n",
    "\n",
    "print(square(25))"
   ]
  },
  {
   "cell_type": "code",
   "execution_count": 151,
   "id": "06be2c70",
   "metadata": {},
   "outputs": [
    {
     "name": "stdout",
     "output_type": "stream",
     "text": [
      "1\n",
      "2\n",
      "3\n",
      "4\n",
      "5\n",
      "6\n",
      "7\n",
      "8\n",
      "9\n",
      "10\n"
     ]
    }
   ],
   "source": [
    "for i in range (10):\n",
    "    print(i+1)\n"
   ]
  },
  {
   "cell_type": "code",
   "execution_count": 152,
   "id": "2d31697c",
   "metadata": {},
   "outputs": [
    {
     "name": "stdout",
     "output_type": "stream",
     "text": [
      "The difference is about $ 1\n"
     ]
    }
   ],
   "source": [
    "# cost of our product\n",
    "# cost of competitor's product\n",
    "store1 = 5.60\n",
    "store2 = 6.73\n",
    "\n",
    "# difference in abs of products\n",
    "# round difference\n",
    "difference = round(abs(store1 - store2))\n",
    "\n",
    "# print difference\n",
    "print(\"The difference is about $\", difference)\n"
   ]
  }
 ],
 "metadata": {
  "kernelspec": {
   "display_name": "base",
   "language": "python",
   "name": "python3"
  },
  "language_info": {
   "codemirror_mode": {
    "name": "ipython",
    "version": 3
   },
   "file_extension": ".py",
   "mimetype": "text/x-python",
   "name": "python",
   "nbconvert_exporter": "python",
   "pygments_lexer": "ipython3",
   "version": "3.12.7"
  }
 },
 "nbformat": 4,
 "nbformat_minor": 5
}
